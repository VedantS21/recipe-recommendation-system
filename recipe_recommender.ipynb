{
 "cells": [
  {
   "cell_type": "code",
   "execution_count": 2,
   "metadata": {},
   "outputs": [],
   "source": [
    "import analysis_tools as tools\n",
    "import pandas as pd\n",
    "import numpy as np"
   ]
  },
  {
   "cell_type": "code",
   "execution_count": 4,
   "metadata": {},
   "outputs": [],
   "source": [
    "recipe_data = pd.read_csv('recipe_data.csv')"
   ]
  },
  {
   "cell_type": "code",
   "execution_count": 6,
   "metadata": {},
   "outputs": [
    {
     "data": {
      "text/html": [
       "<div>\n",
       "<style scoped>\n",
       "    .dataframe tbody tr th:only-of-type {\n",
       "        vertical-align: middle;\n",
       "    }\n",
       "\n",
       "    .dataframe tbody tr th {\n",
       "        vertical-align: top;\n",
       "    }\n",
       "\n",
       "    .dataframe thead th {\n",
       "        text-align: right;\n",
       "    }\n",
       "</style>\n",
       "<table border=\"1\" class=\"dataframe\">\n",
       "  <thead>\n",
       "    <tr style=\"text-align: right;\">\n",
       "      <th></th>\n",
       "      <th>Unnamed: 0</th>\n",
       "      <th>type</th>\n",
       "      <th>subtype</th>\n",
       "      <th>name</th>\n",
       "      <th>ingredients</th>\n",
       "    </tr>\n",
       "  </thead>\n",
       "  <tbody>\n",
       "    <tr>\n",
       "      <th>0</th>\n",
       "      <td>0</td>\n",
       "      <td>Breakfast and Brunch</td>\n",
       "      <td>Pancakes</td>\n",
       "      <td>German Pancake with Buttermilk Sauce</td>\n",
       "      <td>['6 eggs', '1 cup milk', '1 cup all-purpose fl...</td>\n",
       "    </tr>\n",
       "    <tr>\n",
       "      <th>1</th>\n",
       "      <td>1</td>\n",
       "      <td>Breakfast and Brunch</td>\n",
       "      <td>Pancakes</td>\n",
       "      <td>Hearty Country Hot Cakes</td>\n",
       "      <td>['1 1/2 cups buttermilk', '1 1/4 cups all-purp...</td>\n",
       "    </tr>\n",
       "    <tr>\n",
       "      <th>2</th>\n",
       "      <td>2</td>\n",
       "      <td>Breakfast and Brunch</td>\n",
       "      <td>Pancakes</td>\n",
       "      <td>Skillet Strawberry Pancake</td>\n",
       "      <td>['3 large eggs', '3/4 cup whole milk', '1/2 te...</td>\n",
       "    </tr>\n",
       "    <tr>\n",
       "      <th>3</th>\n",
       "      <td>3</td>\n",
       "      <td>Breakfast and Brunch</td>\n",
       "      <td>Pancakes</td>\n",
       "      <td>Chocolate Pancakes</td>\n",
       "      <td>['1 1/4 cups all-purpose flour', '1/4 cup unsw...</td>\n",
       "    </tr>\n",
       "    <tr>\n",
       "      <th>4</th>\n",
       "      <td>4</td>\n",
       "      <td>Breakfast and Brunch</td>\n",
       "      <td>Pancakes</td>\n",
       "      <td>Whole Wheat Pancakes from Scratch</td>\n",
       "      <td>['1/2 cup wheat germ', '2 cups whole wheat flo...</td>\n",
       "    </tr>\n",
       "  </tbody>\n",
       "</table>\n",
       "</div>"
      ],
      "text/plain": [
       "   Unnamed: 0                  type   subtype  \\\n",
       "0           0  Breakfast and Brunch  Pancakes   \n",
       "1           1  Breakfast and Brunch  Pancakes   \n",
       "2           2  Breakfast and Brunch  Pancakes   \n",
       "3           3  Breakfast and Brunch  Pancakes   \n",
       "4           4  Breakfast and Brunch  Pancakes   \n",
       "\n",
       "                                   name  \\\n",
       "0  German Pancake with Buttermilk Sauce   \n",
       "1              Hearty Country Hot Cakes   \n",
       "2            Skillet Strawberry Pancake   \n",
       "3                    Chocolate Pancakes   \n",
       "4     Whole Wheat Pancakes from Scratch   \n",
       "\n",
       "                                         ingredients  \n",
       "0  ['6 eggs', '1 cup milk', '1 cup all-purpose fl...  \n",
       "1  ['1 1/2 cups buttermilk', '1 1/4 cups all-purp...  \n",
       "2  ['3 large eggs', '3/4 cup whole milk', '1/2 te...  \n",
       "3  ['1 1/4 cups all-purpose flour', '1/4 cup unsw...  \n",
       "4  ['1/2 cup wheat germ', '2 cups whole wheat flo...  "
      ]
     },
     "execution_count": 6,
     "metadata": {},
     "output_type": "execute_result"
    }
   ],
   "source": []
  },
  {
   "cell_type": "code",
   "execution_count": null,
   "metadata": {},
   "outputs": [],
   "source": []
  }
 ],
 "metadata": {
  "kernelspec": {
   "display_name": "Python 3",
   "language": "python",
   "name": "python3"
  },
  "language_info": {
   "codemirror_mode": {
    "name": "ipython",
    "version": 3
   },
   "file_extension": ".py",
   "mimetype": "text/x-python",
   "name": "python",
   "nbconvert_exporter": "python",
   "pygments_lexer": "ipython3",
   "version": "3.5.5"
  }
 },
 "nbformat": 4,
 "nbformat_minor": 1
}
